{
 "cells": [
  {
   "cell_type": "markdown",
   "metadata": {},
   "source": [
    "## Capture and mouse draw rectangle from webcam and sketch process it on a live feed"
   ]
  },
  {
   "cell_type": "code",
   "execution_count": 1,
   "metadata": {},
   "outputs": [],
   "source": [
    "\n",
    "import cv2\n",
    "from matplotlib import pyplot as plt\n",
    "import numpy as np\n"
   ]
  },
  {
   "cell_type": "code",
   "execution_count": 2,
   "metadata": {},
   "outputs": [],
   "source": [
    "\n",
    "def sketch_transform(image):\n",
    "    image_grayscale = cv2.cvtColor(image, cv2.COLOR_BGR2GRAY)\n",
    "    image_grayscale_blurred = cv2.GaussianBlur(image_grayscale, (7,7), 0)\n",
    "    image_canny = cv2.Canny(image_grayscale_blurred, 10, 80)\n",
    "    _, mask = image_canny_inverted = cv2.threshold(image_canny, 30, 255, cv2.THRESH_BINARY_INV)\n",
    "    return mask"
   ]
  },
  {
   "cell_type": "code",
   "execution_count": null,
   "metadata": {},
   "outputs": [],
   "source": [
    "import cv2\n",
    "\n",
    "# Sketch effect function\n",
    "def sketch_transform(img):\n",
    "    gray = cv2.cvtColor(img, cv2.COLOR_BGR2GRAY)\n",
    "    inv = 255 - gray\n",
    "    blur = cv2.GaussianBlur(inv, (21, 21), 0)\n",
    "    sketch = cv2.divide(gray, 255 - blur, scale=256)\n",
    "    return sketch\n",
    "\n",
    "# Initialize webcam\n",
    "cam_capture = cv2.VideoCapture(0)\n",
    "if not cam_capture.isOpened():\n",
    "    print(\"Error: Could not access webcam\")\n",
    "    exit()\n",
    "\n",
    "# Capture one frame to select ROI\n",
    "ret, im0 = cam_capture.read()\n",
    "if not ret:\n",
    "    print(\"Error: Failed to capture frame\")\n",
    "    cam_capture.release()\n",
    "    exit()\n",
    "\n",
    "# Let user select ROI\n",
    "showCrosshair = False\n",
    "fromCenter = False\n",
    "r = cv2.selectROI(\"Select ROI\", im0, fromCenter, showCrosshair)\n",
    "cv2.destroyWindow(\"Select ROI\")\n",
    "\n",
    "while True:\n",
    "    ret, image_frame = cam_capture.read()\n",
    "    if not ret:\n",
    "        print(\"Error: Failed to read frame\")\n",
    "        break\n",
    "\n",
    "    # Crop ROI\n",
    "    x, y, w, h = [int(v) for v in r]\n",
    "    rect_img = image_frame[y:y+h, x:x+w]\n",
    "\n",
    "    # Apply sketch effect\n",
    "    sketcher_rect = sketch_transform(rect_img)\n",
    "\n",
    "    # Convert to 3-channel\n",
    "    sketcher_rect_bgr = cv2.cvtColor(sketcher_rect, cv2.COLOR_GRAY2BGR)\n",
    "\n",
    "    # Replace ROI in the original frame\n",
    "    image_frame[y:y+h, x:x+w] = sketcher_rect_bgr\n",
    "\n",
    "    # Display the result\n",
    "    cv2.imshow(\"Sketcher ROI\", image_frame)\n",
    "\n",
    "    # Exit on 'q'\n",
    "    if cv2.waitKey(1) & 0xFF == ord('q'):\n",
    "        break\n",
    "\n",
    "cam_capture.release()\n",
    "cv2.destroyAllWindows()\n"
   ]
  },
  {
   "cell_type": "code",
   "execution_count": 1,
   "metadata": {},
   "outputs": [
    {
     "name": "stdout",
     "output_type": "stream",
     "text": [
      "Note: you may need to restart the kernel to use updated packages.\n"
     ]
    },
    {
     "name": "stderr",
     "output_type": "stream",
     "text": [
      "ERROR: Could not find a version that satisfies the requirement cv2 (from versions: none)\n",
      "ERROR: No matching distribution found for cv2\n"
     ]
    }
   ],
   "source": [
    "pip install cv2"
   ]
  },
  {
   "cell_type": "code",
   "execution_count": null,
   "metadata": {},
   "outputs": [],
   "source": []
  }
 ],
 "metadata": {
  "kernelspec": {
   "display_name": "base",
   "language": "python",
   "name": "python3"
  },
  "language_info": {
   "codemirror_mode": {
    "name": "ipython",
    "version": 3
   },
   "file_extension": ".py",
   "mimetype": "text/x-python",
   "name": "python",
   "nbconvert_exporter": "python",
   "pygments_lexer": "ipython3",
   "version": "3.13.5"
  }
 },
 "nbformat": 4,
 "nbformat_minor": 2
}
