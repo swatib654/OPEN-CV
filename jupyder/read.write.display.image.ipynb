{
 "cells": [
  {
   "cell_type": "code",
   "execution_count": 3,
   "id": "9a2cfb96",
   "metadata": {},
   "outputs": [],
   "source": [
    "import cv2"
   ]
  },
  {
   "cell_type": "code",
   "execution_count": 4,
   "id": "e70d6898",
   "metadata": {},
   "outputs": [],
   "source": [
    "import numpy as np"
   ]
  },
  {
   "cell_type": "code",
   "execution_count": 5,
   "id": "34edacfc",
   "metadata": {},
   "outputs": [],
   "source": [
    "input = cv2.imread(r\"C:\\Users\\pc\\OneDrive\\Desktop\\Deep Learning\\Open CV\\Rashmika full1.webp\")"
   ]
  },
  {
   "cell_type": "code",
   "execution_count": 6,
   "id": "4bd80d9a",
   "metadata": {},
   "outputs": [
    {
     "data": {
      "text/plain": [
       "array([[[102, 137, 147],\n",
       "        [102, 137, 147],\n",
       "        [102, 137, 147],\n",
       "        ...,\n",
       "        [171, 190, 189],\n",
       "        [171, 190, 189],\n",
       "        [168, 186, 186]],\n",
       "\n",
       "       [[104, 140, 150],\n",
       "        [104, 140, 150],\n",
       "        [104, 140, 150],\n",
       "        ...,\n",
       "        [188, 206, 205],\n",
       "        [188, 206, 205],\n",
       "        [183, 201, 201]],\n",
       "\n",
       "       [[107, 142, 152],\n",
       "        [107, 142, 152],\n",
       "        [107, 142, 152],\n",
       "        ...,\n",
       "        [186, 205, 204],\n",
       "        [186, 205, 204],\n",
       "        [182, 200, 200]],\n",
       "\n",
       "       ...,\n",
       "\n",
       "       [[ 19,  23,  18],\n",
       "        [ 19,  23,  18],\n",
       "        [ 19,  23,  18],\n",
       "        ...,\n",
       "        [ 35,  46,  49],\n",
       "        [ 35,  46,  49],\n",
       "        [ 34,  45,  47]],\n",
       "\n",
       "       [[ 21,  25,  20],\n",
       "        [ 21,  25,  20],\n",
       "        [ 21,  25,  20],\n",
       "        ...,\n",
       "        [ 37,  45,  49],\n",
       "        [ 37,  45,  49],\n",
       "        [ 36,  44,  47]],\n",
       "\n",
       "       [[ 29,  33,  28],\n",
       "        [ 29,  33,  28],\n",
       "        [ 29,  33,  28],\n",
       "        ...,\n",
       "        [ 37,  45,  49],\n",
       "        [ 39,  47,  50],\n",
       "        [ 39,  47,  50]]], dtype=uint8)"
      ]
     },
     "execution_count": 6,
     "metadata": {},
     "output_type": "execute_result"
    }
   ],
   "source": [
    "input"
   ]
  },
  {
   "cell_type": "code",
   "execution_count": 7,
   "id": "d2ba2c37",
   "metadata": {},
   "outputs": [],
   "source": [
    "cv2.imshow('image', input)\n",
    "cv2.waitKey()\n",
    "cv2.destroyAllWindows()"
   ]
  },
  {
   "cell_type": "code",
   "execution_count": 8,
   "id": "31cf94de",
   "metadata": {},
   "outputs": [
    {
     "name": "stdout",
     "output_type": "stream",
     "text": [
      "Height of Image: 1050 pixels\n",
      "Width of Image: 700 pixels\n"
     ]
    }
   ],
   "source": [
    "print('Height of Image:', int(input.shape[0]), 'pixels')\n",
    "print('Width of Image:', int(input.shape[1]), 'pixels')"
   ]
  },
  {
   "cell_type": "code",
   "execution_count": 9,
   "id": "c7ae2510",
   "metadata": {},
   "outputs": [
    {
     "data": {
      "text/plain": [
       "True"
      ]
     },
     "execution_count": 9,
     "metadata": {},
     "output_type": "execute_result"
    }
   ],
   "source": [
    "cv2.imwrite('output.png', input)"
   ]
  },
  {
   "cell_type": "code",
   "execution_count": 10,
   "id": "fd803a51",
   "metadata": {},
   "outputs": [
    {
     "data": {
      "text/plain": [
       "'c:\\\\Users\\\\pc\\\\OneDrive\\\\Desktop\\\\Deep Learning\\\\Open CV'"
      ]
     },
     "execution_count": 10,
     "metadata": {},
     "output_type": "execute_result"
    }
   ],
   "source": [
    "import os\n",
    "os.getcwd()"
   ]
  },
  {
   "cell_type": "code",
   "execution_count": null,
   "id": "71067543",
   "metadata": {},
   "outputs": [],
   "source": []
  },
  {
   "cell_type": "code",
   "execution_count": null,
   "id": "4857a549",
   "metadata": {},
   "outputs": [],
   "source": []
  },
  {
   "cell_type": "code",
   "execution_count": null,
   "id": "77aaa481",
   "metadata": {},
   "outputs": [],
   "source": []
  },
  {
   "cell_type": "code",
   "execution_count": null,
   "id": "2ab30f75",
   "metadata": {},
   "outputs": [],
   "source": []
  },
  {
   "cell_type": "code",
   "execution_count": null,
   "id": "555b7a4c",
   "metadata": {},
   "outputs": [],
   "source": []
  },
  {
   "cell_type": "code",
   "execution_count": null,
   "id": "e29357a8",
   "metadata": {},
   "outputs": [],
   "source": []
  },
  {
   "cell_type": "code",
   "execution_count": null,
   "id": "c01ff813",
   "metadata": {},
   "outputs": [],
   "source": []
  },
  {
   "cell_type": "code",
   "execution_count": null,
   "id": "64a11a0b",
   "metadata": {},
   "outputs": [],
   "source": []
  },
  {
   "cell_type": "code",
   "execution_count": null,
   "id": "70c4914f",
   "metadata": {},
   "outputs": [],
   "source": []
  },
  {
   "cell_type": "code",
   "execution_count": null,
   "id": "014af46d",
   "metadata": {},
   "outputs": [],
   "source": []
  },
  {
   "cell_type": "code",
   "execution_count": null,
   "id": "2799cfe7",
   "metadata": {},
   "outputs": [],
   "source": []
  },
  {
   "cell_type": "code",
   "execution_count": null,
   "id": "88c7a190",
   "metadata": {},
   "outputs": [],
   "source": []
  },
  {
   "cell_type": "code",
   "execution_count": null,
   "id": "d01ec1de",
   "metadata": {},
   "outputs": [],
   "source": []
  },
  {
   "cell_type": "code",
   "execution_count": null,
   "id": "20a72ffd",
   "metadata": {},
   "outputs": [],
   "source": []
  }
 ],
 "metadata": {
  "kernelspec": {
   "display_name": "base",
   "language": "python",
   "name": "python3"
  },
  "language_info": {
   "codemirror_mode": {
    "name": "ipython",
    "version": 3
   },
   "file_extension": ".py",
   "mimetype": "text/x-python",
   "name": "python",
   "nbconvert_exporter": "python",
   "pygments_lexer": "ipython3",
   "version": "3.13.5"
  }
 },
 "nbformat": 4,
 "nbformat_minor": 5
}
