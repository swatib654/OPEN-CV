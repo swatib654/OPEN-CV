{
 "cells": [
  {
   "cell_type": "markdown",
   "metadata": {},
   "source": [
    "# open image with opencv without using matplotlib"
   ]
  },
  {
   "cell_type": "code",
   "execution_count": 1,
   "metadata": {},
   "outputs": [
    {
     "data": {
      "text/plain": [
       "-1"
      ]
     },
     "execution_count": 1,
     "metadata": {},
     "output_type": "execute_result"
    }
   ],
   "source": [
    "import cv2\n",
    "\n",
    "myimg = cv2.imread(r'C:\\Users\\pc\\Downloads\\17th - Color detection, Ocr Model\\17th - Color detection, Ocr Model\\Gen Ai through computre vision\\lover.jpg')\n",
    "\n",
    "cv2.imshow('nit', myimg )\n",
    "\n",
    "cv2.waitKey()"
   ]
  },
  {
   "cell_type": "code",
   "execution_count": null,
   "metadata": {},
   "outputs": [],
   "source": [
    "import cv2\n",
    "\n",
    "myimg = cv2.imread(r'C:\\Users\\pc\\Downloads\\17th - Color detection, Ocr Model\\17th - Color detection, Ocr Model\\Gen Ai through computre vision\\lover.jpg')\n",
    "\n",
    "while True:\n",
    "    cv2.imshow('nit', myimg )\n",
    "    # if user waited for 1 ms and we have pressed esc key  \n",
    "    if cv2.waitKey(1) & 0xFF == 27:\n",
    "        break\n",
    "\n",
    "cv2.destroyAllWindows()"
   ]
  },
  {
   "cell_type": "code",
   "execution_count": null,
   "metadata": {},
   "outputs": [],
   "source": [
    "# Also you can save the test file in desktop & show them as well\n",
    "# open new notebook & save as .py run in cmd prompt"
   ]
  }
 ],
 "metadata": {
  "kernelspec": {
   "display_name": "base",
   "language": "python",
   "name": "python3"
  },
  "language_info": {
   "codemirror_mode": {
    "name": "ipython",
    "version": 3
   },
   "file_extension": ".py",
   "mimetype": "text/x-python",
   "name": "python",
   "nbconvert_exporter": "python",
   "pygments_lexer": "ipython3",
   "version": "3.13.5"
  }
 },
 "nbformat": 4,
 "nbformat_minor": 4
}
